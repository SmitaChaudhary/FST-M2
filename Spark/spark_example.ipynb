{
 "cells": [
  {
   "cell_type": "code",
   "execution_count": 5,
   "metadata": {},
   "outputs": [],
   "source": [
    "import findspark\n",
    "from pyspark.sql import SparkSession # type: ignore\n",
    "from pyspark.sql.functions import *\n",
    "findspark.init()\n",
    "spark= SparkSession.builder.master(\"local\").appName(\"FSTExample\").getOrCreate()"
   ]
  },
  {
   "cell_type": "code",
   "execution_count": 10,
   "metadata": {},
   "outputs": [],
   "source": [
    "import findspark\n",
    "from pyspark.sql import SparkSession\n",
    "from pyspark.sql.functions import *\n",
    "findspark.init()\n",
    "spark= SparkSession.builder.master(\"local\").appName(\"FSTTraining\").getOrCreate()"
   ]
  },
  {
   "cell_type": "code",
   "execution_count": 6,
   "metadata": {},
   "outputs": [
    {
     "name": "stderr",
     "output_type": "stream",
     "text": [
      "<>:2: SyntaxWarning: invalid escape sequence '\\s'\n",
      "<>:2: SyntaxWarning: invalid escape sequence '\\s'\n",
      "C:\\Users\\01992F744\\AppData\\Local\\Temp\\ipykernel_12212\\1924905803.py:2: SyntaxWarning: invalid escape sequence '\\s'\n",
      "  words=inputFile.select(explode(split(inputFile.value, '\\s+')). alias('word'))\n"
     ]
    },
    {
     "name": "stdout",
     "output_type": "stream",
     "text": [
      "+--------+-----+\n",
      "|    word|count|\n",
      "+--------+-----+\n",
      "|  online|  588|\n",
      "|exercise|  588|\n",
      "|      is| 1176|\n",
      "|     FST|  588|\n",
      "|training|  588|\n",
      "|    This| 1176|\n",
      "+--------+-----+\n",
      "\n"
     ]
    }
   ],
   "source": [
    "\n",
    "inputFile=spark.read.text(\"./sample data/simple_text.txt\")\n",
    "words=inputFile.select(explode(split(inputFile.value, '\\s+')). alias('word'))\n",
    "words.groupBy('word').count().show()"
   ]
  },
  {
   "cell_type": "markdown",
   "metadata": {},
   "source": []
  },
  {
   "cell_type": "markdown",
   "metadata": {},
   "source": [
    "# Spark Example\n",
    "This code block is to import : \n",
    "* Findspark\n",
    "* Spark Session\n",
    "* Spark SQL Functions\n",
    "And then initilaises the spark session."
   ]
  }
 ],
 "metadata": {
  "kernelspec": {
   "display_name": "Python 3",
   "language": "python",
   "name": "python3"
  },
  "language_info": {
   "codemirror_mode": {
    "name": "ipython",
    "version": 3
   },
   "file_extension": ".py",
   "mimetype": "text/x-python",
   "name": "python",
   "nbconvert_exporter": "python",
   "pygments_lexer": "ipython3",
   "version": "3.12.4"
  }
 },
 "nbformat": 4,
 "nbformat_minor": 2
}
